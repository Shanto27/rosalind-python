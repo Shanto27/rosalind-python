{
 "cells": [
  {
   "cell_type": "code",
   "execution_count": 1,
   "metadata": {},
   "outputs": [],
   "source": [
    "from Bio import SeqIO\n",
    "from rosalind import parse_fasta, import_fasta, longest_common_substring, _extract_lcsm_sub_string, _lcsm, extract_lcsm_seq"
   ]
  },
  {
   "cell_type": "code",
   "execution_count": 2,
   "metadata": {
    "scrolled": true
   },
   "outputs": [],
   "source": [
    "my_records=parse_fasta(import_fasta(\"rosalind_lcsm.txt\"))"
   ]
  },
  {
   "cell_type": "code",
   "execution_count": 3,
   "metadata": {
    "scrolled": true
   },
   "outputs": [
    {
     "name": "stdout",
     "output_type": "stream",
     "text": [
      "TGTACATCCGGATAACAAGGGCTCCAGGGGCATCGCCTTTGAAGCGGGCCGACCTAGCTAGGCGGGCCCCAACCACCGTGAATACTTTCATCGTAACTGATCTAAGTAAGTGTCCGTATGTTGCTCCTCCTAGTGTGGCGTTGTGGGAGACTCCAACCTGGGACTGTGACACTCATTGTGTTCCATACCCGCGCAATTCCGCGTATTCGTGGAGAGAGGTCCTGTTGGCGATAGGCCG\n"
     ]
    }
   ],
   "source": [
    "lcss = longest_common_substring(my_records)\n",
    "print(lcss)"
   ]
  },
  {
   "cell_type": "code",
   "execution_count": 4,
   "metadata": {
    "collapsed": true,
    "scrolled": true
   },
   "outputs": [],
   "source": [
    "def test():\n",
    "    \"\"\"Not working properly i will check it later.\"\"\"\n",
    "    seqs = ['GATTACA', 'TAGACCA']\n",
    "    dist, trace = _lcsm(seqs[0], seqs[1])\n",
    "\n",
    "    for i in range(len(dist)):\n",
    "        print(dist[i])\n",
    "\n",
    "    print()\n",
    "    \n",
    "    print('           ',end='')\n",
    "    print('     '.join(seqs[1]))\n",
    "    print(' ', trace[0])\n",
    "    print()\n",
    "    for i in range(1,len(trace)):\n",
    "        print(seqs[0][i-1],trace[i])\n",
    "        print()\n",
    "\n",
    "    l = extract_lcsm_seq(seqs[0], seqs[1], trace)\n",
    "    for li in l:\n",
    "        print(li)"
   ]
  },
  {
   "cell_type": "code",
   "execution_count": 5,
   "metadata": {},
   "outputs": [
    {
     "name": "stdout",
     "output_type": "stream",
     "text": [
      "[0, 0, 0, 0, 0, 0, 0, 0]\n",
      "[0, 1, 1, 1, 1, 1, 1, 1]\n",
      "[0, 1, 2, 2, 2, 2, 2, 2]\n",
      "[0, 1, 2, 3, 3, 3, 3, 3]\n",
      "[0, 1, 2, 3, 4, 4, 4, 4]\n",
      "[0, 1, 2, 3, 4, 5, 5, 5]\n",
      "[0, 1, 2, 3, 4, 5, 6, 6]\n",
      "[0, 1, 2, 3, 4, 5, 6, 7]\n",
      "\n",
      "           T     A     G     A     C     C     A\n",
      "  ['--', '--', '--', '--', '--', '--', '--', '--']\n",
      "\n",
      "G ['--', '--', '←', '↖', '←', '←', '←', '←']\n",
      "\n",
      "A ['--', '↑ ', '↖', '←', '↖', '←', '←', '↖']\n",
      "\n",
      "T ['--', '↖', '↑ ', '--', '←', '←', '←', '←']\n",
      "\n",
      "T ['--', '↖', '↑ ', '↑ ', '--', '←', '←', '←']\n",
      "\n",
      "A ['--', '↑ ', '↖', '↑ ', '↖', '--', '←', '↖']\n",
      "\n",
      "C ['--', '↑ ', '↑ ', '↑ ', '↑ ', '↖', '↖', '←']\n",
      "\n",
      "A ['--', '↑ ', '↖', '↑ ', '↖', '↑ ', '↑ ', '↖']\n",
      "\n",
      "-ACA\n",
      "TACA\n"
     ]
    }
   ],
   "source": [
    "test()"
   ]
  }
 ],
 "metadata": {
  "kernelspec": {
   "display_name": "Python 3",
   "language": "python",
   "name": "python3"
  },
  "language_info": {
   "codemirror_mode": {
    "name": "ipython",
    "version": 3
   },
   "file_extension": ".py",
   "mimetype": "text/x-python",
   "name": "python",
   "nbconvert_exporter": "python",
   "pygments_lexer": "ipython3",
   "version": "3.6.0"
  }
 },
 "nbformat": 4,
 "nbformat_minor": 2
}
