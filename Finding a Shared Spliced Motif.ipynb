{
 "cells": [
  {
   "cell_type": "code",
   "execution_count": 1,
   "metadata": {},
   "outputs": [],
   "source": [
    "from rosalind import import_fasta, parse_fasta, find_shared_spliced_motif"
   ]
  },
  {
   "cell_type": "code",
   "execution_count": 2,
   "metadata": {
    "collapsed": true,
    "scrolled": true
   },
   "outputs": [],
   "source": [
    "my_records=parse_fasta(import_fasta(\"rosalind_lcsq.txt\"))"
   ]
  },
  {
   "cell_type": "code",
   "execution_count": 3,
   "metadata": {
    "scrolled": true
   },
   "outputs": [
    {
     "name": "stdout",
     "output_type": "stream",
     "text": [
      "TATCAAACGGTGGGTAGGGCCAACTCTGGCCTCGTTATCTAAAAATCGGTATGGGTATCGTCACCCTTGCTAAGGCGTGGCGTCCGGCAAAACTCCGGATTTTGAGCCGAAGATTTCCAATTTATGAACGGCGGGGCAACTCAAACGTGACCTTCCTGAAGCGGCGATGTTAGGCAACATTGGAACAAGAATATATTAGATTTGGAGAAGCTGGCACCTAAAGGACGACGTATCCTCTTAAGCACCCTTCTTTGATCAGGGTGGTGAGACCCAACCCAACGACCAAGCAACGAGAGCCCCGATGAATTGGGGACACACGAGGAATTACGGGCGGCGTGCTTCAGATCACGTCGCGTGGTCAGAACCATCAGCCCTTATCCAGCGTTGAAATGGAGGTCCGATAGGTTGTTTGTTCCAGCCCAACAATCCCTACGCGAGCTTGGCATTACGTTCAGAAACGGTCAAAGGGGTTTCGAAGACTCCGGCGCATCTACACAGTCCTCAGATACATCCCCACTTTATTGGGGTTGAAGATCCCTCAGACCTCGCATTTGGGTATTCCACACGGCGAAAAAAGAGGCAGAAAATCTGGCTCACGTTTGGGGAGTGGAGTCA\n",
      "TTAACAGAAGTGGGTAGGGCCAACTCTGGCCTGGCTATCTAAAAATCGGTATTGATATCGTCACCCTTCGATAATGGCGTGGCGTCCGGAATAACTGGATTTAAGCGAGGGATAGAATAATTTATGCACGGCGGGGCCACTTGAAAAACCTGCTCCTGAATCGGCGATGTTAGGCAACATTGGAACAGAGAAATTTAAGATTAGGAGAAGCTGGCATCCAAAGGTCGTCGTATCCTCTTAAGCACCCTTCTTTGATCAGGGTGGTAAGAACCAGCCCAACTGCCAGCACGGCCAACTAGCGCGGATGATGGGACACACGAGGAATTACGGGCGGCGTGCTTCAGATCACGTCCGTTGGTACGAACCATCAGCGGTTATCCAGCGTTGAAATGGAGGTCCGATAGGTTGTTTGTTCCAGCCCAACCATTCCTACCAGGCACGTCTTACTGTAGCAGAAACGGTCAAACGGGCTTCGAAGACTCCGGCGCATAGTCACAGTCCCCAGATACATTTCTCCCATTTATTGGGTGAAGATAGCCCAGGACCGCGGCGTATCCGGGATCTCCACACGGAAAAAGGGCAGAAAATCTGGCTCACGTTGTGGGGACCAGCTCA\n"
     ]
    }
   ],
   "source": [
    "print('\\n'.join(find_shared_spliced_motif(my_records)))"
   ]
  },
  {
   "cell_type": "code",
   "execution_count": 4,
   "metadata": {
    "collapsed": true
   },
   "outputs": [],
   "source": [
    "def test():\n",
    "    my_records = ['AACCTTGG', 'ACACTGTGA']\n",
    "    \n",
    "    print('\\n'.join(find_shared_spliced_motif(my_records)))"
   ]
  },
  {
   "cell_type": "code",
   "execution_count": 5,
   "metadata": {},
   "outputs": [
    {
     "name": "stdout",
     "output_type": "stream",
     "text": [
      "AACTTG\n",
      "ACCTGG\n"
     ]
    }
   ],
   "source": [
    "test()"
   ]
  }
 ],
 "metadata": {
  "kernelspec": {
   "display_name": "Python 3",
   "language": "python",
   "name": "python3"
  },
  "language_info": {
   "codemirror_mode": {
    "name": "ipython",
    "version": 3
   },
   "file_extension": ".py",
   "mimetype": "text/x-python",
   "name": "python",
   "nbconvert_exporter": "python",
   "pygments_lexer": "ipython3",
   "version": "3.6.0"
  }
 },
 "nbformat": 4,
 "nbformat_minor": 2
}
