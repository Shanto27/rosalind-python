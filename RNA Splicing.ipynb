{
 "cells": [
  {
   "cell_type": "code",
   "execution_count": 1,
   "metadata": {
    "collapsed": true
   },
   "outputs": [],
   "source": [
    "from rosalind import rna_codon_table, import_fasta, parse_fasta, transcribe_dna_to_rna, translate_rna, remove_introns"
   ]
  },
  {
   "cell_type": "code",
   "execution_count": 2,
   "metadata": {},
   "outputs": [],
   "source": [
    "my_records = parse_fasta(import_fasta(\"rosalind_splc.txt\"))\n",
    "dna_string = my_records[0]\n",
    "introns = my_records[1:]"
   ]
  },
  {
   "cell_type": "code",
   "execution_count": 3,
   "metadata": {},
   "outputs": [
    {
     "name": "stdout",
     "output_type": "stream",
     "text": [
      "ATGACGGTCGGGCTGGCCGACACGATCTTTCTGGAGCTAGAACGCAAGTGGGATAGCAGCGCAACTCCAACCGTAAATCCCACTCGAGGGGCCGAGCAAATTTGTCCCGCCCTCACGATGACCTATCGCTCCCAGTACTGTAGAGTGGTTGCGCCAATGTCCGAGACTGTCCCCATTTCTGAGCGCGGGGACCGGCGCACGATGTCCTGTTTAAAACGGGTGCCTCTAATTACTAAAAGGCTTACTCCCAATCCTTTGTCGGATCACATAATCGTTCAGAGCGCCCACGAGAGTGCCCCGTCGTTAATATGGCTCGATCCAAACGGTTCCGTCATCGCTGCTCACACAATCGTTCAGATCTCTCTGTCGTTGCTCGAGTTGGTGGATGACACATCGGACGAAGAGAGTGGATCTAGGCCGGTTGGAACTGATCAGATGCCGAGGGTGCCTAGCGTTACAATCATTGAGTTGCTGTTCCTCAATTTCAAATCTCTGTGTAGTCGTAACCCACGAGCCCGCATCTCCAAATCTCTTGGATTGAGACAGACTCTTTATCAGAAACAGGACTGCTGA\n"
     ]
    }
   ],
   "source": [
    "out = remove_introns(dna_string, introns)\n",
    "print(out)"
   ]
  },
  {
   "cell_type": "code",
   "execution_count": 4,
   "metadata": {
    "scrolled": true
   },
   "outputs": [
    {
     "name": "stdout",
     "output_type": "stream",
     "text": [
      "AUGACGGUCGGGCUGGCCGACACGAUCUUUCUGGAGCUAGAACGCAAGUGGGAUAGCAGCGCAACUCCAACCGUAAAUCCCACUCGAGGGGCCGAGCAAAUUUGUCCCGCCCUCACGAUGACCUAUCGCUCCCAGUACUGUAGAGUGGUUGCGCCAAUGUCCGAGACUGUCCCCAUUUCUGAGCGCGGGGACCGGCGCACGAUGUCCUGUUUAAAACGGGUGCCUCUAAUUACUAAAAGGCUUACUCCCAAUCCUUUGUCGGAUCACAUAAUCGUUCAGAGCGCCCACGAGAGUGCCCCGUCGUUAAUAUGGCUCGAUCCAAACGGUUCCGUCAUCGCUGCUCACACAAUCGUUCAGAUCUCUCUGUCGUUGCUCGAGUUGGUGGAUGACACAUCGGACGAAGAGAGUGGAUCUAGGCCGGUUGGAACUGAUCAGAUGCCGAGGGUGCCUAGCGUUACAAUCAUUGAGUUGCUGUUCCUCAAUUUCAAAUCUCUGUGUAGUCGUAACCCACGAGCCCGCAUCUCCAAAUCUCUUGGAUUGAGACAGACUCUUUAUCAGAAACAGGACUGCUGA\n",
      "MTVGLADTIFLELERKWDSSATPTVNPTRGAEQICPALTMTYRSQYCRVVAPMSETVPISERGDRRTMSCLKRVPLITKRLTPNPLSDHIIVQSAHESAPSLIWLDPNGSVIAAHTIVQISLSLLELVDDTSDEESGSRPVGTDQMPRVPSVTIIELLFLNFKSLCSRNPRARISKSLGLRQTLYQKQDC\n"
     ]
    }
   ],
   "source": [
    "rna_string = transcribe_dna_to_rna(out)\n",
    "print(rna_string)\n",
    "prot_seq = translate_rna(rna_string)\n",
    "print(''.join(prot_seq))"
   ]
  }
 ],
 "metadata": {
  "kernelspec": {
   "display_name": "Python 3",
   "language": "python",
   "name": "python3"
  },
  "language_info": {
   "codemirror_mode": {
    "name": "ipython",
    "version": 3
   },
   "file_extension": ".py",
   "mimetype": "text/x-python",
   "name": "python",
   "nbconvert_exporter": "python",
   "pygments_lexer": "ipython3",
   "version": "3.6.0"
  }
 },
 "nbformat": 4,
 "nbformat_minor": 2
}
