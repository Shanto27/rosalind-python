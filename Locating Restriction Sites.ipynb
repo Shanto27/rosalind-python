{
 "cells": [
  {
   "cell_type": "code",
   "execution_count": 1,
   "metadata": {
    "collapsed": true
   },
   "outputs": [],
   "source": [
    "from rosalind import locate_restriction_sites, reverse_complement_dna, parse_fasta, import_fasta"
   ]
  },
  {
   "cell_type": "code",
   "execution_count": 2,
   "metadata": {},
   "outputs": [],
   "source": [
    "from Bio import SeqIO\n",
    "\n",
    "length_min = 4\n",
    "length_max = 13\n",
    "\n",
    "my_records = parse_fasta(import_fasta(\"rosalind_revp.txt\"))\n",
    "dna_string = my_records[0]"
   ]
  },
  {
   "cell_type": "code",
   "execution_count": 3,
   "metadata": {},
   "outputs": [
    {
     "name": "stdout",
     "output_type": "stream",
     "text": [
      "GCGCATGCGGTAGAGGGTTGGCCACAAAGAGCTCCCAATATGGTAATTTCCGCCTCAGCTAGGTGCCCAAATCATAACCTGTGTCTGCGGGATTCCCTATACTTGTAAGTTGGCGGAAACCGTATGTTGTGGTGTCCTGCTCGTACCAAATATAATATAGTTAGCTGTGCTGTAGTAGCGAGGGTTTAGTAATGCCCAGTAGAGCGACGAGCTATTTGCAAAAGTGCCCTGCGGGTGCCATACCACTTCAATGGGGATAATAACTTTGGCCCGGAAACAAGGCTCTTAGGAACAGCTCCTCCAACCCGACCCTTCGAGAACGAGAGATTGAAATCCGCGCTGTAGGAGATATACTTTCGTGGAATTACCAGCAACGGGACCGCTGGAACGAACGGGGGTTATCTAACGGTTTCTGATGATCTGGTTACTCACGTACTTCCTCCTGAGAGCACACATATATGTGACTCTGCACCGTCGCTAACTTCTTGTCTTCTATAACGTCTAATACTTTATTGTTGTCGATAAGCCAATGAGCAGGCACCTCTAAGCGTTCAATTCACTGGCCCTTAGGTCTCGTACTAACTTATGCTACCTGGTTGTGTCTCCGAACAAGGTTAGGACCGTCGTAAACTACCCACTGTTACTCGTAGTCGGATGGGTTCTCAAGGCGGGGCCAGGAAAACACGAAGTATAGGACACTGATGGCGTCTCCTGTTCACTTATCGGTTAACGCGAGTGAAGAGCCTCACGACGTTATATCGTTTACCGTACTAAGCGTGTCCGGCAAGCACAAACGCCAGAATTAGAATCAACTTTTGGCTCAAGATAGGCTAGTATAACGCCAGCTCACCCCTTTGCGTTTGTGCTGTAACAACGTTTTTCTCGATGACTCCCCGTGCATGTACGATCCATAT\n"
     ]
    }
   ],
   "source": [
    "print(dna_string)"
   ]
  },
  {
   "cell_type": "code",
   "execution_count": 4,
   "metadata": {
    "scrolled": true
   },
   "outputs": [
    {
     "name": "stdout",
     "output_type": "stream",
     "text": [
      "ATATGGATCGTACATGCACGGGGAGTCATCGAGAAAAACGTTGTTACAGCACAAACGCAAAGGGGTGAGCTGGCGTTATACTAGCCTATCTTGAGCCAAAAGTTGATTCTAATTCTGGCGTTTGTGCTTGCCGGACACGCTTAGTACGGTAAACGATATAACGTCGTGAGGCTCTTCACTCGCGTTAACCGATAAGTGAACAGGAGACGCCATCAGTGTCCTATACTTCGTGTTTTCCTGGCCCCGCCTTGAGAACCCATCCGACTACGAGTAACAGTGGGTAGTTTACGACGGTCCTAACCTTGTTCGGAGACACAACCAGGTAGCATAAGTTAGTACGAGACCTAAGGGCCAGTGAATTGAACGCTTAGAGGTGCCTGCTCATTGGCTTATCGACAACAATAAAGTATTAGACGTTATAGAAGACAAGAAGTTAGCGACGGTGCAGAGTCACATATATGTGTGCTCTCAGGAGGAAGTACGTGAGTAACCAGATCATCAGAAACCGTTAGATAACCCCCGTTCGTTCCAGCGGTCCCGTTGCTGGTAATTCCACGAAAGTATATCTCCTACAGCGCGGATTTCAATCTCTCGTTCTCGAAGGGTCGGGTTGGAGGAGCTGTTCCTAAGAGCCTTGTTTCCGGGCCAAAGTTATTATCCCCATTGAAGTGGTATGGCACCCGCAGGGCACTTTTGCAAATAGCTCGTCGCTCTACTGGGCATTACTAAACCCTCGCTACTACAGCACAGCTAACTATATTATATTTGGTACGAGCAGGACACCACAACATACGGTTTCCGCCAACTTACAAGTATAGGGAATCCCGCAGACACAGGTTATGATTTGGGCACCTAGCTGAGGCGGAAATTACCATATTGGGAGCTCTTTGTGGCCAACCCTCTACCGCATGCGC\n"
     ]
    }
   ],
   "source": [
    "print(reverse_complement_dna(dna_string))"
   ]
  },
  {
   "cell_type": "code",
   "execution_count": 12,
   "metadata": {},
   "outputs": [
    {
     "name": "stdout",
     "output_type": "stream",
     "text": [
      "1, 4\n",
      "2, 8\n",
      "3, 6\n",
      "4, 4\n",
      "19, 6\n",
      "20, 4\n",
      "29, 6\n",
      "30, 4\n",
      "38, 4\n",
      "45, 4\n",
      "57, 4\n",
      "59, 4\n",
      "98, 4\n",
      "143, 4\n",
      "150, 4\n",
      "151, 4\n",
      "155, 4\n",
      "156, 4\n",
      "163, 4\n",
      "210, 4\n",
      "215, 8\n",
      "216, 6\n",
      "217, 4\n",
      "268, 4\n",
      "271, 4\n",
      "294, 4\n",
      "314, 4\n",
      "336, 4\n",
      "337, 4\n",
      "349, 4\n",
      "350, 4\n",
      "363, 4\n",
      "418, 4\n",
      "431, 4\n",
      "433, 4\n",
      "452, 12\n",
      "453, 10\n",
      "454, 8\n",
      "455, 4\n",
      "455, 6\n",
      "456, 4\n",
      "457, 4\n",
      "468, 4\n",
      "494, 4\n",
      "498, 4\n",
      "519, 4\n",
      "554, 4\n",
      "562, 4\n",
      "576, 4\n",
      "672, 4\n",
      "690, 4\n",
      "726, 6\n",
      "727, 4\n",
      "731, 4\n",
      "751, 4\n",
      "755, 4\n",
      "756, 4\n",
      "768, 4\n",
      "781, 4\n",
      "801, 4\n",
      "831, 4\n",
      "835, 4\n",
      "844, 4\n",
      "873, 6\n",
      "874, 4\n",
      "883, 4\n",
      "897, 4\n",
      "899, 4\n",
      "902, 4\n",
      "906, 4\n",
      "911, 4\n"
     ]
    }
   ],
   "source": [
    "print('\\n'.join(locate_restriction_sites(length_min, length_max, dna_string)))"
   ]
  },
  {
   "cell_type": "code",
   "execution_count": null,
   "metadata": {
    "collapsed": true
   },
   "outputs": [],
   "source": []
  }
 ],
 "metadata": {
  "kernelspec": {
   "display_name": "Python 3",
   "language": "python",
   "name": "python3"
  },
  "language_info": {
   "codemirror_mode": {
    "name": "ipython",
    "version": 3
   },
   "file_extension": ".py",
   "mimetype": "text/x-python",
   "name": "python",
   "nbconvert_exporter": "python",
   "pygments_lexer": "ipython3",
   "version": "3.6.0"
  }
 },
 "nbformat": 4,
 "nbformat_minor": 2
}
