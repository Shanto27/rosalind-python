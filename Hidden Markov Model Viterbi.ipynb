{
 "cells": [
  {
   "cell_type": "code",
   "execution_count": 1,
   "metadata": {
    "collapsed": true,
    "deletable": true,
    "editable": true
   },
   "outputs": [],
   "source": [
    "import numpy as np\n",
    "\n",
    "def slog2(x):\n",
    "    if(x <= 0.0):\n",
    "        return 0.0\n",
    "    else:\n",
    "        return np.log2(x)"
   ]
  },
  {
   "cell_type": "code",
   "execution_count": 2,
   "metadata": {
    "collapsed": true,
    "deletable": true,
    "editable": true
   },
   "outputs": [],
   "source": [
    "def load_em_prob_matrix(em_prob_path):\n",
    "#     lines = open('em_prob.txt').readlines()\n",
    "    lines = open(em_prob_path).readlines()\n",
    "    emprob = {}\n",
    "    \n",
    "    for i in range(len(lines)):\n",
    "        lines[i] = lines[i].rstrip('\\n')\n",
    "        lines[i] = lines[i].split()\n",
    "    \n",
    "    states = lines[0]\n",
    "    labels = lines[1]\n",
    "    lines = lines[2:]\n",
    "    for i in range(len(states)):\n",
    "        temp_dict_row = {}\n",
    "        for j in range(len(labels)):\n",
    "            temp_dict_row[labels[j]] = float(lines[i][j])\n",
    "        emprob[states[i]] = temp_dict_row\n",
    "        \n",
    "    return emprob"
   ]
  },
  {
   "cell_type": "code",
   "execution_count": 3,
   "metadata": {
    "collapsed": true,
    "deletable": true,
    "editable": true
   },
   "outputs": [],
   "source": [
    "def load_tr_prob_matrix(tr_prob_path):\n",
    "#     lines = open('tr_prob.txt').readlines()\n",
    "    lines = open(tr_prob_path).readlines()\n",
    "    trprob = {}\n",
    "    \n",
    "    for i in range(len(lines)):\n",
    "        lines[i] = lines[i].rstrip('\\n')\n",
    "        lines[i] = lines[i].split()\n",
    "    \n",
    "    states = lines[0]\n",
    "    labels = lines[1]\n",
    "    lines = lines[2:]\n",
    "    \n",
    "    for i in range(len(states)):\n",
    "        temp_dict_row = {}\n",
    "        for j in range(len(labels)):\n",
    "            temp_dict_row[labels[j]] = float(lines[i][j])\n",
    "        trprob[states[i]] = temp_dict_row\n",
    "    \n",
    "    return trprob"
   ]
  },
  {
   "cell_type": "code",
   "execution_count": 4,
   "metadata": {
    "collapsed": false,
    "deletable": true,
    "editable": true
   },
   "outputs": [],
   "source": [
    "# def viterbi(obspace, stspace, inprobs, observations, emprobs, trprobs):\n",
    "#     t1 = [[0 for x in range(len(stspace))] for y in range(len(observations)+1)]#initializing 2d matrix for trace\n",
    "#     seq = ''#sequence of states most likely to be followed for observed state\n",
    "#     prob = 1;#I haven't implemented log probability version, therefore prob is 1 and others multiplied on to it\n",
    "\n",
    "#     #initializing initial probabilities\n",
    "#     for i in range(len(stspace)):\n",
    "#         t1[0][i] = inprobs[i]\n",
    "\n",
    "#     #for length of observations joint probabilities of switching states for emission are calculated here\n",
    "#     for i in range(1, len(observations)+1):\n",
    "#         for j in range(len(stspace)):#for alpha and beta cross switching\n",
    "#             for k in range(len(stspace)):\n",
    "#                 t1[i][j] += t1[i-1][k]*trprobs[stspace[k]][stspace[j]]*emprobs[stspace[k]][observations[i-1]]\n",
    "  \n",
    "#     #finding index of last state by last observation\n",
    "#     ind = t1[-1].index(max(t1[i]))\n",
    "#     seq+=stspace[ind]\n",
    "#     for i in range(len(observations)-1, 0, -1):\n",
    "#         templ = []\n",
    "#         for j in range(len(stspace)):#scanning switch probabilities from the last index 'ind' and appends it to matrix\n",
    "#             templ.append(t1[i][j]*trprobs[stspace[j]][stspace[ind]]*emprobs[stspace[j]][observations[i]])\n",
    "#             print('TRPROB:',trprobs[stspace[j]][stspace[ind]],'EMPROB:',emprobs[stspace[j]][observations[i]],'IND:',ind,\"T:\",t1[i][j])\n",
    "#         maxval = max(templ)\n",
    "#         prev_ind = ind\n",
    "#         ind = templ.index(maxval)\n",
    "#         seq+=stspace[ind]\n",
    "#         prob*=(trprobs[stspace[j]][stspace[ind]]*emprobs[stspace[j]][observations[i]])#calculates emission and transmission probabilities for that state\n",
    "\n",
    "#     return t1[1:], seq[::-1], prob    # return all together"
   ]
  },
  {
   "cell_type": "code",
   "execution_count": 10,
   "metadata": {
    "collapsed": false
   },
   "outputs": [],
   "source": [
    "def viterbi(obspace, stspace, inprobs, observations, emprobs, trprobs, calc_type='normal'):\n",
    "    t1 = [[0 for x in range(len(stspace))] for y in range(len(observations)+1)]#initializing 2d matrix for trace\n",
    "    seq = ''#sequence of states most likely to be followed for observed state\n",
    "    if(calc_type == 'normal'):\n",
    "        prob = 1 #I haven't implemented log probability version, therefore prob is 1 and others multiplied on to it\n",
    "    elif(calc_type == 'log'):\n",
    "        prob = 0\n",
    "    \n",
    "    #initializing initial probabilities\n",
    "    for i in range(len(stspace)):\n",
    "        t1[0][i] = inprobs[i]\n",
    "\n",
    "    #for length of observations joint probabilities of switching states for emission are calculated here\n",
    "    for i in range(1, len(observations)+1):\n",
    "        for j in range(len(stspace)):#for alpha and beta cross switching\n",
    "            for k in range(len(stspace)):\n",
    "                t1[i][j] += t1[i-1][k]*trprobs[stspace[k]][stspace[j]]*emprobs[stspace[k]][observations[i-1]]\n",
    "  \n",
    "    #finding index of last state by last observation\n",
    "#     print('DEBUG',t1[i])\n",
    "    ind = t1[-1].index(max(t1[i]))\n",
    "    seq+=stspace[ind]\n",
    "    for i in range(len(observations)-1, -1, -1):\n",
    "        templ = []\n",
    "        for j in range(len(stspace)):#scanning switch probabilities from the last index 'ind' and appends it to matrix\n",
    "            templ.append(t1[i][j]*trprobs[stspace[j]][stspace[ind]]*emprobs[stspace[j]][observations[i]])\n",
    "#             if(calc_type == 'normal'):\n",
    "#                 templ.append(t1[i][j]*trprobs[stspace[j]][stspace[ind]]*emprobs[stspace[j]][observations[i]])\n",
    "#             elif(calc_type == 'log'):\n",
    "#                 templ.append(np.log2(t1[i][j])+np.log2(trprobs[stspace[j]][stspace[ind]])+np.log2(emprobs[stspace[j]][observations[i]]))\n",
    "        maxval = max(templ)\n",
    "        prev_ind = ind\n",
    "        ind = templ.index(maxval)\n",
    "        seq+=stspace[ind]\n",
    "        \n",
    "        if(calc_type == 'normal'):\n",
    "            prob*=(trprobs[stspace[prev_ind]][stspace[ind]]*emprobs[stspace[ind]][observations[i]])#calculates emission and transmission probabilities for that state\n",
    "        elif(calc_type == 'log'):\n",
    "            prob+=(np.log2(trprobs[stspace[prev_ind]][stspace[ind]]) + np.log2(emprobs[stspace[ind]][observations[i]]))#calculates emission and transmission probabilities for that state\n",
    "\n",
    "#         print('TRPROB:',trprobs[stspace[ind]][stspace[prev_ind]],'EMPROB:',emprobs[stspace[prev_ind]][observations[i]],'IND:',ind,\"T:\",t1[i][j])\n",
    "\n",
    "    if(calc_type == 'log'):\n",
    "        for i in range(len(observations)+1):\n",
    "            for j in range(len(stspace)):\n",
    "                t1[i][j] = slog2(t1[i][j])\n",
    "\n",
    "    return t1[1:], seq[::-1], prob    # return all together"
   ]
  },
  {
   "cell_type": "code",
   "execution_count": 6,
   "metadata": {
    "collapsed": false,
    "deletable": true,
    "editable": true,
    "scrolled": true
   },
   "outputs": [
    {
     "name": "stdout",
     "output_type": "stream",
     "text": [
      "['a', 'b']\n",
      "[0.19000000000000003, 0.11000000000000001]\n",
      "[0.07060000000000002, 0.027400000000000008]\n",
      "[0.0071760000000000036, 0.008104000000000002]\n",
      "[0.0008889600000000005, 0.0022598400000000004]\n",
      "Sequence: bbbbb\n",
      "Probability: 0.002361960000000001\n"
     ]
    }
   ],
   "source": [
    "def assignment3():\n",
    "    emprobm = load_em_prob_matrix('em_prob.txt')#loading emission probability matrix into a 2d dictionary\n",
    "    trprobm = load_tr_prob_matrix('tr_prob.txt')#loading transmission probability matrix into a 2d dictionary\n",
    "    obspace = ['A', 'T', 'C', 'G']#observation space\n",
    "    stspace = ['a', 'b']#state space\n",
    "    inprobs = [0.5, 0.5]#initial probabilities\n",
    "    observations = 'GGCT'#observed sequence\n",
    "\n",
    "    m,s,p = viterbi(obspace, stspace, inprobs, observations, emprobm, trprobm, calc_type='normal')\n",
    "\n",
    "    print(stspace)#printing states\n",
    "    for sm in m:\n",
    "        print(sm)#printing joing probabilities used to determine path\n",
    "\n",
    "    print('Sequence:',s)\n",
    "    print('Probability:',p)\n",
    "assignment3()"
   ]
  },
  {
   "cell_type": "code",
   "execution_count": 7,
   "metadata": {
    "collapsed": false,
    "deletable": true,
    "editable": true
   },
   "outputs": [
    {
     "name": "stdout",
     "output_type": "stream",
     "text": [
      "['a', 'b']\n",
      "[0.19000000000000003, 0.11000000000000001]\n",
      "[0.020400000000000005, 0.0316]\n",
      "[0.002784000000000001, 0.008736]\n",
      "[0.0005126400000000002, 0.00238656]\n",
      "[0.00023228160000000008, 0.0004500864]\n",
      "[3.440793600000001e-05, 0.00012384614400000001]\n",
      "[6.812098560000002e-06, 3.3782538240000004e-05]\n",
      "[1.6265650176000003e-06, 9.189406310400001e-06]\n",
      "[7.693515325440002e-07, 1.7191557365760003e-06]\n",
      "[1.2081631002624002e-07, 4.7186556420096005e-07]\n",
      "[2.5029434828390405e-08, 1.286118654345216e-07]\n",
      "[1.158283384691098e-08, 2.4151313171349507e-08]\n",
      "Sequence: bbbbbbbbbbbbb\n",
      "Probability: 2.964832302162949e-08\n"
     ]
    }
   ],
   "source": [
    "def takehome8():\n",
    "    emprobm = load_em_prob_matrix('em_prob.txt')#loading emission probability matrix into a 2d dictionary\n",
    "    trprobm = load_tr_prob_matrix('tr_prob.txt')#loading transmission probability matrix into a 2d dictionary\n",
    "    obspace = ['A', 'T', 'C', 'G']#observation space\n",
    "    stspace = ['a', 'b']#state space\n",
    "    inprobs = [0.5, 0.5]#initial probabilities\n",
    "    observations = 'GTCCATCCACTA'#observed sequence\n",
    "\n",
    "    m,s,p = viterbi(obspace, stspace, inprobs, observations, emprobm, trprobm, calc_type='normal')\n",
    "\n",
    "    print(stspace)#printing states\n",
    "    for sm in m:\n",
    "        print(sm)#printing joing probabilities used to determine path\n",
    "\n",
    "    print('Sequence:',s)\n",
    "    print('Probability:',p)\n",
    "takehome8()"
   ]
  },
  {
   "cell_type": "code",
   "execution_count": 11,
   "metadata": {
    "collapsed": false,
    "deletable": true,
    "editable": true
   },
   "outputs": [
    {
     "name": "stdout",
     "output_type": "stream",
     "text": [
      "['a', 'b']\n",
      "[-4.0588936890535683, -2.8365012677171206]\n",
      "[-5.3569750419865629, -5.1791879227712796]\n",
      "[-8.3693261451031002, -7.0216754855541321]\n",
      "[-10.957039256840291, -8.8897999193725443]\n",
      "[-13.169772697818527, -10.766074630447831]\n",
      "[-15.177019659326669, -12.64498072050359]\n",
      "[-16.24896334427515, -15.064520548777342]\n",
      "[-17.55134920966568, -17.403867319955157]\n",
      "[-18.939128119283293, -19.61400958386697]\n",
      "[-22.139490233649035, -21.420100831740758]\n",
      "Sequence: bbbbbbbbbbb\n",
      "Probability: -21.229536879\n"
     ]
    }
   ],
   "source": [
    "def takehome9():\n",
    "    emprobm = load_em_prob_matrix('em_prob.txt')#loading emission probability matrix into a 2d dictionary\n",
    "    trprobm = load_tr_prob_matrix('tr_prob.txt')#loading transmission probability matrix into a 2d dictionary\n",
    "    obspace = ['A', 'T', 'C', 'G']#observation space\n",
    "    stspace = ['a', 'b']#state space\n",
    "    inprobs = [0.5, 0.5]#initial probabilities\n",
    "    observations = 'CGCCTCGGGC'#observed sequence\n",
    "\n",
    "    m,s,p = viterbi(obspace, stspace, inprobs, observations, emprobm, trprobm, calc_type='log')\n",
    "\n",
    "    print(stspace)#printing states\n",
    "    for sm in m:\n",
    "        print(sm)#printing joing probabilities used to determine path\n",
    "\n",
    "    print('Sequence:',s)\n",
    "    print('Probability:',p)\n",
    "takehome9()"
   ]
  },
  {
   "cell_type": "code",
   "execution_count": 12,
   "metadata": {
    "collapsed": false
   },
   "outputs": [
    {
     "name": "stdout",
     "output_type": "stream",
     "text": [
      "['a', 'b', 'c']\n",
      "[-2.6780719051126378, -3.0, -3.4150374992788439]\n",
      "[-4.4150374992788439, -4.8300749985576878, -5.1926450779423963]\n",
      "[-6.6076825772212393, -6.4150374992788439, -7.0931094043914813]\n",
      "[-8.2451124978365318, -8.5081469036703261, -8.9556058806415457]\n",
      "[-10.37064337992039, -10.129635280416595, -10.830074998557688]\n",
      "[-12.245112497836532, -11.852795075057772, -12.620621632928739]\n",
      "Sequence: aabbbbb\n",
      "Probability: -14.0\n",
      "{'a': {'1': 0.5, '2': 0.25, '3': 0.25}, 'b': {'1': 0.25, '2': 0.5, '3': 0.25}, 'c': {'1': 0.0, '2': 0.0, '3': 0.0}}\n",
      "{'a': {'a': 0.5, 'b': 0.25, 'c': 0.25}, 'b': {'a': 0.25, 'b': 0.5, 'c': 0.25}, 'c': {'a': 0.0, 'b': 0.0, 'c': 0.0}}\n"
     ]
    }
   ],
   "source": [
    "def takehome10():\n",
    "    emprobm = load_em_prob_matrix('em_prob_final.txt')#loading emission probability matrix into a 2d dictionary\n",
    "    trprobm = load_tr_prob_matrix('tr_prob_final.txt')#loading transmission probability matrix into a 2d dictionary\n",
    "    obspace = ['1', '2', '3']#observation space\n",
    "    stspace = ['a', 'b', 'c']#state space\n",
    "    inprobs = [0.5, 0.5, 0.0]#initial probabilities\n",
    "    observations = '112122'#observed sequence\n",
    "\n",
    "    m,s,p = viterbi(obspace, stspace, inprobs, observations, emprobm, trprobm, calc_type='log')\n",
    "\n",
    "    print(stspace)#printing states\n",
    "    for sm in m:\n",
    "        print(sm)#printing joing probabilities used to determine path\n",
    "\n",
    "    print('Sequence:',s)\n",
    "    print('Probability:',p)\n",
    "    print(emprobm)\n",
    "    print(trprobm)\n",
    "takehome10()"
   ]
  }
 ],
 "metadata": {
  "kernelspec": {
   "display_name": "Python 3",
   "language": "python",
   "name": "python3"
  },
  "language_info": {
   "codemirror_mode": {
    "name": "ipython",
    "version": 3
   },
   "file_extension": ".py",
   "mimetype": "text/x-python",
   "name": "python",
   "nbconvert_exporter": "python",
   "pygments_lexer": "ipython3",
   "version": "3.6.0"
  }
 },
 "nbformat": 4,
 "nbformat_minor": 2
}
