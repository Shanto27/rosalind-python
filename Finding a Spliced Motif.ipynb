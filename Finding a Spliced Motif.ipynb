{
 "cells": [
  {
   "cell_type": "code",
   "execution_count": 1,
   "metadata": {
    "collapsed": true
   },
   "outputs": [],
   "source": [
    "from rosalind import import_fasta, parse_fasta"
   ]
  },
  {
   "cell_type": "code",
   "execution_count": 2,
   "metadata": {},
   "outputs": [
    {
     "name": "stdout",
     "output_type": "stream",
     "text": [
      "ACTCGTTTCTGCTTGTTTATTTCACAATTTCACCCCAAGCAACCTGTGTTGATTTGAATACAGTTGCACAATCCTACCGATTTTTAGTTGAAATTCATACTGCCTGATTTCCTCTTGCGATCACGGTCGGTATGATGCGTGTGCCGAGTCCCATCTGACACCTGTAGCCGCAACTTTAGGAGTAGTGTCAAGACCGTCCTAGACAAGGGTGATATACGGGTGATAGTCATGACAATGAGTCCCCGGTGGCGGGCAAAATGGGCCCGCGTGCTGTTACACGTGCGGTTCGGAATACATATCCTAGGTCTAATGCATCTTGCCCAAGAAGTGTCGGGTCCGCCCGCGGTGTGCAGTGTCAACGTAAGAAAGCGCCGACGCGACCCAAACTGTACAAACGAATTAAGTGCGTTCAATAGTACGTTGCATACAGACACCTAGCTAGACTGCTTCTTTTAGGCTTGCGTGTCGTTCCGTGGGCAGAATGCGACTACTCGGGTTATACCGTTCGTCAAGACACGGACTTGTTATAGGGAAAATACGGCTCTACCATAAGCAAAGCCGCTGCATGTCTGGACAACACAACGCCTAATCGGTAGGTATCTACGGGCTTTCCCCCACTGTAACCCAATCGCGTTGCCCTCTATACTGCCACCGAACAGATAACAAGTATTGCGTAGTAACCTGCTCGAAGTAGTCGTAACTGGAAACCACACTAATCTTGGCCTCGTCTAGGGCACTCGAGCGATCGCGGTGGCTCAAAGATTGTTGTTTGACAACGCGGTTGTAAGGTAGATTCGTCCAGCACTCGTACTGCCGCCCTATAACACAATCACAGGACCAGTTATCAAGGCTCTGGATAGGAATTGCGCTGTCTGATCTCGGCATGTGAATAGGTAGTCTCCCTGATTTGACCGCTGGGTAACTCCTTGCTTCCTCGGCGGATATAGGCCTTTGTTACTGGTTCCTC\n",
      "TACTAGTAAAGCCTATCAAGTCATCCGGGTAGACTCGGCGCTTTGATCGGGGCTAAGCAGCCTAGAGATGCGAGATCATCACTCCTACGG\n",
      "3 19 23 28 32 39 45 52 57 60 63 67 69 72 76 81 96 99 107 117 121 124 132 136 138 144 146 148 157 163 166 170 172 174 176 189 192 196 198 202 204 210 213 215 218 223 227 233 237 239 245 248 250 259 276 278 280 283 291 304 307 313 315 323 325 327 330 352 354 361 370 374 380 389 391 400 407 412 414 419 425 428 436 439 444 448 455 458 461 463\n"
     ]
    }
   ],
   "source": [
    "collection = parse_fasta(import_fasta('rosalind_sseq.txt'))\n",
    "s1 = collection[0]\n",
    "s2 = collection[1]\n",
    "index_list = [0]\n",
    "\n",
    "print(s1)\n",
    "print(s2)\n",
    "\n",
    "for c in s2:\n",
    "    i = s1.find(c, index_list[len(index_list)-1]+2, len(s1))\n",
    "    if(i > -1):\n",
    "        index_list.append(i)\n",
    "    \n",
    "index_list = index_list[1:]\n",
    "print(' '.join(str((k+1)) for k in index_list))"
   ]
  }
 ],
 "metadata": {
  "kernelspec": {
   "display_name": "Python 3",
   "language": "python",
   "name": "python3"
  },
  "language_info": {
   "codemirror_mode": {
    "name": "ipython",
    "version": 3
   },
   "file_extension": ".py",
   "mimetype": "text/x-python",
   "name": "python",
   "nbconvert_exporter": "python",
   "pygments_lexer": "ipython3",
   "version": "3.6.0"
  }
 },
 "nbformat": 4,
 "nbformat_minor": 2
}
