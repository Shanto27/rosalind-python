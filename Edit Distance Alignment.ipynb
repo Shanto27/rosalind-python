{
 "cells": [
  {
   "cell_type": "code",
   "execution_count": 1,
   "metadata": {
    "collapsed": true
   },
   "outputs": [],
   "source": [
    "from rosalind import import_fasta, parse_fasta, edit_distance, extract_lcsm_seq"
   ]
  },
  {
   "cell_type": "code",
   "execution_count": 2,
   "metadata": {
    "collapsed": true,
    "scrolled": true
   },
   "outputs": [],
   "source": [
    "my_records=parse_fasta(import_fasta(\"rosalind_edta.txt\"))"
   ]
  },
  {
   "cell_type": "code",
   "execution_count": 3,
   "metadata": {
    "scrolled": true
   },
   "outputs": [
    {
     "name": "stdout",
     "output_type": "stream",
     "text": [
      "396\n",
      "VMKPQNPTHNSMYTHHQCILCEWVDLANHCHHAQSY------L--ENKHKLMQCMYVFEMDESRADQLWGTYEPQGSKYNVIIVKLPH------VKQAQRCNAPAEKRQKWQHMWSFGLVCHSCPYSWHGKRFVQEPGCCNRYLLLQREEI-D------NMMSIPE--ECNGDDDFQWNVC-------PFVPGYIRKLYKHFTGHISCDTMFARILRE------SDHR------GSVPYAPGKWKSCEFASIYNGYKNGVWWQMHVMMEPVMFSFIDDVMWMFYCGMLRKKMPVEDTYGACLEQMTYQI-PFHKFMV--------GIMQVQRCRICEFWQTDIKYVFMRRQVYSHPEQN--------VPA-VLHVVNGAHFDSHTRRDRWARASQREPIADVWWDYF--YA---P--WPEQIACK----RQWKYGRKWQKNKPHKGLCFNHAQWIGCVWTDPWNFQ-PDLGDLNPANQAH-A-IG-LANA-ISDYSYMFKAKNRDCSWCMQNDVHWERQDSYHGHPPVDAWLNIDKGHDVECMVMNGGEQNWD-HCASDTV---TMLDVKVDDL------PHLETLPGNIFDAYIGIHVDGCTFEGTHIVSRKFWQNTWVGFKTM--------FSQTKSVEP---------------WWWFTSYMRPRKEQGHPTVG--GTVISSTMSSVAI------YLMLTQQHATTGNVDWVVERD------YRENLQQAIEKAPWFLHHRG---NNFAQCVTHFKRWSMHLLEPEY---CTTWCGWSDTKHALFYPGSLDGSHMRYMGMRQTHHMSD--ENTWWREVVHSKAAVANGHIQ---G------FT---------SP-GCMDKMVACKPQEYHRQITTWNYFACFFDTWI-TTPTLIWTCLQENGWNLEGKNHNQLAMLNRKHRYIVNRQSGHCWFAMCCEYQECNQFIRKKIDAATTHTCHIWPCA-----NVRHQFDSS--MWYPELTDSMCEQGSVVYPVPHYLILDFGHYGRFIEKCWGNIQQNSQC--------WTARINGYPVECQR\n",
      "\n",
      "FMKPKNPTHNSMYT----I--E-VDLANHCHHMQSYECTDEHLEWENKHKLMQCMYVFEPDESRADQL---------KYNVIIVCLPHREEWSIVKQAQRCNAPAEKRTKWQNMWSF-----SCPYSWHGKRFVYEPGCCNRYLLLQREEIVDHGTMLKNMMSIPHMKECNGDDDFQ-NVAGWRFAAIPFVPPYIR---K-FTGMISCDTMFARILRDCDDHWMSDHRWFGIMQGSTPYARGKWKS--FASIYNGYKWAVWWY-----EPVMFSFIDDVMWMFYCGCLRKKMPVEDTYGACLNQMTYQDFPFHKFPTRICASGKYGIMQVQRCRQCKK--T----VFNRRQVYSHPEQAGDDMRWHSVPKTVLHVVWGAHFSSRTRRDRYARASQREPIADVWWDYTGIYAGDQPGSWPEQIACGAQAYRQWKYGRKWQKNQPHKGTS---AQWIGCVWTDPWNILYPKLGDLNPANQAHWAMIIDLANQEISDYSWMFYQ--------MQN------QDCYHGRQIVDAWLNIDKGHD--CMVMNGGEQNIAPHTLQRGGLCDTMLDVKVDDGCEPIKCPHLETLMGNIMDAYIGIHVDGCTFEGTCIVSRKFWQNTWVGFKTKTVCKNRERFHQNKSVCNCTFTFKFMGKWHGMFWWWFTSYM----EQGHVTSCERG-VISSQMSSVAGYHCRNTYLMLTQQHATTGNVDWGDQGDWARRVEYRENLQQALE-AYRIAGLDGFVTNNFAQHVTHF------LLEPKDIILCTTWCVWHWYRDVEYYFNSLDGSHMRYGGYFKFWVIEGFCENTEAGYFG--KAAVANGHIVAKCGDLKRNEFPAFICGKFYQSIMGSMDKDVACKPQEYMRQITTWNYFATFFDTWKPTTPTLIWTCAQENHWNLEGKTLN-LV----KHRGIVNRQ----WFAMCCEYQEFNQFIRKKIDAATTHTCHIKQFEHNIWYNVRHQFDSNQQMWDNMNIGRMWFQGSVVYPVPHYLIEDFGHYGLFIEKCWGNICCNSQVIAAHGLIWWTTRINGYPVECQR\n"
     ]
    }
   ],
   "source": [
    "distance, distance_grid, trace_grid = edit_distance(my_records[0], my_records[1])\n",
    "print(distance_grid[-1][-1])\n",
    "alignment = extract_lcsm_seq(my_records[0], my_records[1], trace_grid)\n",
    "print(alignment[0])\n",
    "print()\n",
    "print(alignment[1])"
   ]
  },
  {
   "cell_type": "code",
   "execution_count": 4,
   "metadata": {
    "collapsed": true
   },
   "outputs": [],
   "source": [
    "def test():\n",
    "    my_records = ['PRETTY', 'PRTTEIN']\n",
    "    distance, distance_grid, trace_grid = edit_distance(my_records[0], my_records[1])\n",
    "    print(distance)\n",
    "    alignment = extract_lcsm_seq(my_records[0], my_records[1], trace_grid)\n",
    "    print(alignment[0])\n",
    "    print()\n",
    "    print(alignment[1])"
   ]
  },
  {
   "cell_type": "code",
   "execution_count": 5,
   "metadata": {},
   "outputs": [
    {
     "name": "stdout",
     "output_type": "stream",
     "text": [
      "4\n",
      "PRETTY--\n",
      "\n",
      "PR-TTEIN\n"
     ]
    }
   ],
   "source": [
    "test()"
   ]
  }
 ],
 "metadata": {
  "kernelspec": {
   "display_name": "Python 3",
   "language": "python",
   "name": "python3"
  },
  "language_info": {
   "codemirror_mode": {
    "name": "ipython",
    "version": 3
   },
   "file_extension": ".py",
   "mimetype": "text/x-python",
   "name": "python",
   "nbconvert_exporter": "python",
   "pygments_lexer": "ipython3",
   "version": "3.6.0"
  }
 },
 "nbformat": 4,
 "nbformat_minor": 2
}
