{
 "cells": [
  {
   "cell_type": "code",
   "execution_count": 1,
   "metadata": {},
   "outputs": [],
   "source": [
    "from rosalind import import_fasta, parse_fasta, blosum62, _lcsm_glob, extract_lcsm_seqs"
   ]
  },
  {
   "cell_type": "code",
   "execution_count": 2,
   "metadata": {
    "collapsed": true,
    "scrolled": true
   },
   "outputs": [],
   "source": [
    "my_records=parse_fasta(import_fasta(\"rosalind_glob.txt\"))"
   ]
  },
  {
   "cell_type": "code",
   "execution_count": 3,
   "metadata": {
    "scrolled": false
   },
   "outputs": [
    {
     "name": "stdout",
     "output_type": "stream",
     "text": [
      "1953\n",
      "CLRHMKMTGYYIAEVDKIPFYNN---L--AGVAWTIGGRKFWQRQYLTKGSFAKETYGYFGIFGKSTPFLLWYKW-PMGGILPHPYNPRRHAFKDGIYMFHNA-PD-FIHGTKPKV-F---FRQVSRDMARQIMLSHEDLHMWLMIMQNYVVCITFA--EKDWEFSGTCWMKTMFWYLHFHCIRWKNDYTIGWNQLLRFFDPEINMCVDMLCY--SCIQLIPANF---YAASMTG--K-ISKGAQFTSCGEDC-YCDKFIHMKIFWGYDPQGDLGMYGVNANEKHGLYLC-MPLALVYCQ-H--QR-FIGMVS-GPMDAPCKY-LADKD------LQ-------K-YIYDISVKEMSVYL------LCLGHIKDSG--------ILYGNRLLKKERVAGTMCTMQF-DIFDMSYADCHNNDKTRNRGLSTLKRSWKQYVYIEFGTV---P-R-WVQHATWDLYTNRFFAIM-DEF-EFL--KLRAEKHWFVDRMWPCMLNIMWSMQMCCVIQFRRCIEMMQCYAFGFEIVWATMRFKRNQAAMWHMYRRYIPCMDYWDCNGANAAEFCDERESLFKREMLFARAPSCDIEPP-T-L-AQW----MFRAVMM--LKIFFWQDIH-YACTPD-H-D-EY--LWINKSWRMTSDVCFVHWDFWNTGCIYAAP-CENKTVPWAK-YLYASASYNWEDSCMCWLQWLYTRFRNFENEDLPETPACAKAMNYNWALTQVVYYCKILKRQNTMLG---A-EVCKTL---Y-TDADPHGLNDLQM-Q--A----HCDKWSFNSIAEDRCCPNHLFAQHYDCCQVSRGIFR--E---Y---SEHWGFCKHGEKCLRLTQLTTCQP------TTAGRGT---EKVLTQSWWVCNNFWELCALSACHLMQ-Y-P-YECYTKRRHWAEAISLCGQYKSMTQYWLRYNLNVQQQLPA--WGKWA-AI-EIVEFNMCPWH-------H-KFCVFPPRWYWNHKKWYVFIERWWHSNNLP\n",
      "\n",
      "CLRLMKMTGYYIAEV---PFYNNDRWLHCASQAWTIGGRKFWERQDHNEMR-CDET-G---IFGKSTPFLLWMSGLDMFGWCEKP-KTI-HVFKDGIYMFHNAGTKKFCHWIKQTAAWWEHFRQVSRDMARQNM--HYFFNA-LTL--SWTCCITFAFLEKMWEFSGMCWMKT-FWYLHFHCI---GTFNI--NQWLRFFDPETNMHVDMLCWAASSIALIPARFTCCMAASMTGNLQEISGGAEFTSMGAAIKFADCYCD-K-FWGYDPQGKMGCMS-HWLCMYGVNSNEMPLALVYCRVHNHQRKFISHHDYEPF-APCKIQLPDKNHFQSIQLQYCRNRQIKKYIYDISVKEMSGYLAAFRDNMCLGHIKMSEMHVQYMLCILYLNRLLKKERVEGGMCTMQQEDIFDMS--N-HHIYKTRMKN-K--KRSWKQYVYIEFYTVVQRPTRRWVQHATWDLYENRFFAIMLEEFCWFLFLKLRAEKHWFQDRMW-WDWRCM--LNIC-VIQLRLCIEMMQC-----EIVWTEL-FT-TMR--FHMYRRYIP---YWD-GYTNGAN-ADEPESLFKREMLFACAPSCDTEPKYIEIKAQVSESSQFRAVMMGHMNIYAYLKIFSWTFLRRIHYDFKLCTLSINKSWRMTSDVCF--W---NTGCIYAAPHLEHHFADLVFWYLYAFASYNWEDSCMCWLGW----F---EN--IPYW--WDLPMNY--AF-K--YYCKILKSQNTMLGGNFSDEVCKTLIQKYYVAADPHGLNDIQLAEDTALCGAHCDKWSFNLI--------HLFVQHYDCCQVSRGIFRPLQNLLYRLYSEHTGLCKWGEKCLRLTQLTTCQEVHAAIYTTAGRAMMCFEKMLTQSWWVCNNPWELCALSACHLMQDTRKNYECYTKRRHWAQ------EYKSM---W-QYNLNVQDQLPAIKMGKDEDVLPEIVPFNMRPWHFENACNKYMKFCVFPPRWYWNCKK-KL-IERWWHSNNQP\n"
     ]
    }
   ],
   "source": [
    "penalty_dictionary={}\n",
    "penalty_dictionary['sigma'] = 5\n",
    "penalty_dictionary['score'] = blosum62()\n",
    "\n",
    "distance_grid, trace_grid = _lcsm_glob(my_records[0], my_records[1], penalty_dictionary)\n",
    "\n",
    "# for a in distance_grid:\n",
    "#     print(a)\n",
    "    \n",
    "# for t in trace_grid:\n",
    "#     print(t)\n",
    "    \n",
    "print(distance_grid[-1][-1])\n",
    "alignment = extract_lcsm_seqs(my_records[0], my_records[1], trace_grid)\n",
    "print(alignment[0])\n",
    "print()\n",
    "print(alignment[1])"
   ]
  },
  {
   "cell_type": "code",
   "execution_count": 4,
   "metadata": {
    "collapsed": true
   },
   "outputs": [],
   "source": [
    "def test():\n",
    "    penalty_dictionary={}\n",
    "    penalty_dictionary['sigma'] = 5\n",
    "    penalty_dictionary['score'] = blosum62()\n",
    "    my_records=['PLEASANTLY','MEANLY']\n",
    "    \n",
    "    distance_grid, trace_grid = _lcsm_glob(my_records[0], my_records[1], penalty_dictionary)\n",
    "    \n",
    "    for i in distance_grid:\n",
    "        print(i)\n",
    "    \n",
    "    for i in trace_grid:\n",
    "        print(i)\n",
    "    \n",
    "    print(distance_grid[len(my_records[0])][len(my_records[1])])\n",
    "    alignment = extract_lcsm_seqs(my_records[0], my_records[1], trace_grid)\n",
    "    print(alignment[0])\n",
    "    print()\n",
    "    print(alignment[1])"
   ]
  },
  {
   "cell_type": "code",
   "execution_count": 5,
   "metadata": {
    "scrolled": true
   },
   "outputs": [
    {
     "name": "stdout",
     "output_type": "stream",
     "text": [
      "[0, -5, -10, -15, -20, -25, -30]\n",
      "[-5, -2, -6, -11, -16, -21, -26]\n",
      "[-10, -3, -5, -7, -12, -12, -17]\n",
      "[-15, -8, 2, -3, -7, -12, -14]\n",
      "[-20, -13, -3, 6, 1, -4, -9]\n",
      "[-25, -18, -8, 1, 7, 2, -3]\n",
      "[-30, -23, -13, -4, 2, 6, 1]\n",
      "[-35, -28, -18, -9, 2, 1, 4]\n",
      "[-40, -33, -23, -14, -3, 1, -1]\n",
      "[-45, -38, -28, -19, -8, 1, 0]\n",
      "[-50, -43, -33, -24, -13, -4, 8]\n",
      "['--', '--', '--', '--', '--', '--', '--']\n",
      "['--', '↖', '↖', '←', '←', '←', '←']\n",
      "['--', '↖', '↖', '↖', '←', '↖', '←']\n",
      "['--', '↑ ', '↖', '←', '↖', '←', '↖']\n",
      "['--', '↑ ', '↑ ', '↖', '←', '←', '←']\n",
      "['--', '↑ ', '↑ ', '↑ ', '↖', '←', '←']\n",
      "['--', '↑ ', '↑ ', '↑ ', '↑ ', '↖', '←']\n",
      "['--', '↑ ', '↑ ', '↑ ', '↖', '↑ ', '↖']\n",
      "['--', '↑ ', '↑ ', '↑ ', '↑ ', '↖', '↑ ']\n",
      "['--', '↑ ', '↑ ', '↑ ', '↑ ', '↖', '↖']\n",
      "['--', '↑ ', '↑ ', '↑ ', '↑ ', '↑ ', '↖']\n",
      "8\n",
      "PLEASANTLY\n",
      "\n",
      "-MEA--N-LY\n"
     ]
    }
   ],
   "source": [
    "test()"
   ]
  }
 ],
 "metadata": {
  "kernelspec": {
   "display_name": "Python 3",
   "language": "python",
   "name": "python3"
  },
  "language_info": {
   "codemirror_mode": {
    "name": "ipython",
    "version": 3
   },
   "file_extension": ".py",
   "mimetype": "text/x-python",
   "name": "python",
   "nbconvert_exporter": "python",
   "pygments_lexer": "ipython3",
   "version": "3.6.0"
  }
 },
 "nbformat": 4,
 "nbformat_minor": 2
}
