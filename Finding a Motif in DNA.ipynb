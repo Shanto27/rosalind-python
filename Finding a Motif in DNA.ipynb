{
 "cells": [
  {
   "cell_type": "code",
   "execution_count": 1,
   "metadata": {
    "collapsed": true
   },
   "outputs": [],
   "source": [
    "from rosalind import find_motif"
   ]
  },
  {
   "cell_type": "code",
   "execution_count": 2,
   "metadata": {
    "collapsed": true
   },
   "outputs": [],
   "source": [
    "f = open('rosalind_subs.txt')\n",
    "f_lines = f.readlines()\n",
    "dna_string_s = f_lines[0].rstrip('\\n')\n",
    "dna_string_t = f_lines[1].rstrip('\\n')\n",
    "# dna_string_s = 'GATATATGCATATACTT'\n",
    "# dna_string_t = 'ATAT'"
   ]
  },
  {
   "cell_type": "code",
   "execution_count": 3,
   "metadata": {},
   "outputs": [
    {
     "name": "stdout",
     "output_type": "stream",
     "text": [
      "82 106 113 137 144 180 228 280 287 311 362 377 412 439 454 461 468 537 552 605 623 632 639 664 696 734 806 813 861 909 916\n"
     ]
    }
   ],
   "source": [
    "print(' '.join(find_motif(dna_string_s, dna_string_t)))"
   ]
  }
 ],
 "metadata": {
  "kernelspec": {
   "display_name": "Python 3",
   "language": "python",
   "name": "python3"
  },
  "language_info": {
   "codemirror_mode": {
    "name": "ipython",
    "version": 3
   },
   "file_extension": ".py",
   "mimetype": "text/x-python",
   "name": "python",
   "nbconvert_exporter": "python",
   "pygments_lexer": "ipython3",
   "version": "3.6.0"
  }
 },
 "nbformat": 4,
 "nbformat_minor": 2
}
